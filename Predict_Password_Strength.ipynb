{
  "nbformat": 4,
  "nbformat_minor": 0,
  "metadata": {
    "colab": {
      "name": "Predict Password Strength.ipynb",
      "provenance": [],
      "collapsed_sections": [],
      "authorship_tag": "ABX9TyNfGhNh2XHx6cR4HXK98wiu",
      "include_colab_link": true
    },
    "kernelspec": {
      "name": "python3",
      "display_name": "Python 3"
    },
    "language_info": {
      "name": "python"
    }
  },
  "cells": [
    {
      "cell_type": "markdown",
      "metadata": {
        "id": "view-in-github",
        "colab_type": "text"
      },
      "source": [
        "<a href=\"https://colab.research.google.com/github/imams12/Predict-Password-Strength/blob/main/Predict_Password_Strength.ipynb\" target=\"_parent\"><img src=\"https://colab.research.google.com/assets/colab-badge.svg\" alt=\"Open In Colab\"/></a>"
      ]
    },
    {
      "cell_type": "markdown",
      "metadata": {
        "id": "tl0Y1K0VQ9ZY"
      },
      "source": [
        "# Predict Password Strength Using Natural Language Processing"
      ]
    },
    {
      "cell_type": "markdown",
      "metadata": {
        "id": "5l9YgiB1Pp6N"
      },
      "source": [
        "## Connect Gdrive"
      ]
    },
    {
      "cell_type": "code",
      "metadata": {
        "colab": {
          "base_uri": "https://localhost:8080/"
        },
        "id": "e2Q2EBS4EGl8",
        "outputId": "4bbb8728-2cd0-4283-d066-6205859b335f"
      },
      "source": [
        "from google.colab import drive\n",
        "drive.mount('/content/gdrive')"
      ],
      "execution_count": 1,
      "outputs": [
        {
          "output_type": "stream",
          "name": "stdout",
          "text": [
            "Mounted at /content/gdrive\n"
          ]
        }
      ]
    },
    {
      "cell_type": "markdown",
      "metadata": {
        "id": "601TMIKxPywi"
      },
      "source": [
        "## Import Package"
      ]
    },
    {
      "cell_type": "code",
      "metadata": {
        "id": "4GQy6jFKxlwt"
      },
      "source": [
        "import pandas as pd\n",
        "import numpy as np\n",
        "import seaborn as sns\n",
        "import os\n",
        "import warnings\n",
        "warnings.filterwarnings('ignore')"
      ],
      "execution_count": 2,
      "outputs": []
    },
    {
      "cell_type": "markdown",
      "metadata": {
        "id": "MnrvFk1PP4FH"
      },
      "source": [
        "## Import Data"
      ]
    },
    {
      "cell_type": "code",
      "metadata": {
        "id": "OlWuB1RoDw-F"
      },
      "source": [
        "path = 'gdrive/MyDrive/DATA/Password Data/'"
      ],
      "execution_count": 3,
      "outputs": []
    },
    {
      "cell_type": "code",
      "metadata": {
        "colab": {
          "base_uri": "https://localhost:8080/"
        },
        "id": "MELdDCpUDw7o",
        "outputId": "ed4218dd-e1e4-49aa-caaf-b55c3a44f809"
      },
      "source": [
        "os.listdir(path)"
      ],
      "execution_count": 4,
      "outputs": [
        {
          "output_type": "execute_result",
          "data": {
            "text/plain": [
              "['data.csv']"
            ]
          },
          "metadata": {},
          "execution_count": 4
        }
      ]
    },
    {
      "cell_type": "code",
      "metadata": {
        "colab": {
          "base_uri": "https://localhost:8080/",
          "height": 496
        },
        "id": "rv6V26hTDw4T",
        "outputId": "40f4b773-5b5c-40f1-ba75-ddfd2bb21f94"
      },
      "source": [
        "data = pd.read_csv(path + 'data.csv', error_bad_lines=False)\n",
        "data"
      ],
      "execution_count": 5,
      "outputs": [
        {
          "output_type": "stream",
          "name": "stderr",
          "text": [
            "b'Skipping line 2810: expected 2 fields, saw 5\\nSkipping line 4641: expected 2 fields, saw 5\\nSkipping line 7171: expected 2 fields, saw 5\\nSkipping line 11220: expected 2 fields, saw 5\\nSkipping line 13809: expected 2 fields, saw 5\\nSkipping line 14132: expected 2 fields, saw 5\\nSkipping line 14293: expected 2 fields, saw 5\\nSkipping line 14865: expected 2 fields, saw 5\\nSkipping line 17419: expected 2 fields, saw 5\\nSkipping line 22801: expected 2 fields, saw 5\\nSkipping line 25001: expected 2 fields, saw 5\\nSkipping line 26603: expected 2 fields, saw 5\\nSkipping line 26742: expected 2 fields, saw 5\\nSkipping line 29702: expected 2 fields, saw 5\\nSkipping line 32767: expected 2 fields, saw 5\\nSkipping line 32878: expected 2 fields, saw 5\\nSkipping line 35643: expected 2 fields, saw 5\\nSkipping line 36550: expected 2 fields, saw 5\\nSkipping line 38732: expected 2 fields, saw 5\\nSkipping line 40567: expected 2 fields, saw 5\\nSkipping line 40576: expected 2 fields, saw 5\\nSkipping line 41864: expected 2 fields, saw 5\\nSkipping line 46861: expected 2 fields, saw 5\\nSkipping line 47939: expected 2 fields, saw 5\\nSkipping line 48628: expected 2 fields, saw 5\\nSkipping line 48908: expected 2 fields, saw 5\\nSkipping line 57582: expected 2 fields, saw 5\\nSkipping line 58782: expected 2 fields, saw 5\\nSkipping line 58984: expected 2 fields, saw 5\\nSkipping line 61518: expected 2 fields, saw 5\\nSkipping line 63451: expected 2 fields, saw 5\\nSkipping line 68141: expected 2 fields, saw 5\\nSkipping line 72083: expected 2 fields, saw 5\\nSkipping line 74027: expected 2 fields, saw 5\\nSkipping line 77811: expected 2 fields, saw 5\\nSkipping line 83958: expected 2 fields, saw 5\\nSkipping line 85295: expected 2 fields, saw 5\\nSkipping line 88665: expected 2 fields, saw 5\\nSkipping line 89198: expected 2 fields, saw 5\\nSkipping line 92499: expected 2 fields, saw 5\\nSkipping line 92751: expected 2 fields, saw 5\\nSkipping line 93689: expected 2 fields, saw 5\\nSkipping line 94776: expected 2 fields, saw 5\\nSkipping line 97334: expected 2 fields, saw 5\\nSkipping line 102316: expected 2 fields, saw 5\\nSkipping line 103421: expected 2 fields, saw 5\\nSkipping line 106872: expected 2 fields, saw 5\\nSkipping line 109363: expected 2 fields, saw 5\\nSkipping line 110117: expected 2 fields, saw 5\\nSkipping line 110465: expected 2 fields, saw 5\\nSkipping line 113843: expected 2 fields, saw 5\\nSkipping line 115634: expected 2 fields, saw 5\\nSkipping line 121518: expected 2 fields, saw 5\\nSkipping line 123692: expected 2 fields, saw 5\\nSkipping line 124708: expected 2 fields, saw 5\\nSkipping line 129608: expected 2 fields, saw 5\\nSkipping line 133176: expected 2 fields, saw 5\\nSkipping line 135532: expected 2 fields, saw 5\\nSkipping line 138042: expected 2 fields, saw 5\\nSkipping line 139485: expected 2 fields, saw 5\\nSkipping line 140401: expected 2 fields, saw 5\\nSkipping line 144093: expected 2 fields, saw 5\\nSkipping line 149850: expected 2 fields, saw 5\\nSkipping line 151831: expected 2 fields, saw 5\\nSkipping line 158014: expected 2 fields, saw 5\\nSkipping line 162047: expected 2 fields, saw 5\\nSkipping line 164515: expected 2 fields, saw 5\\nSkipping line 170313: expected 2 fields, saw 5\\nSkipping line 171325: expected 2 fields, saw 5\\nSkipping line 171424: expected 2 fields, saw 5\\nSkipping line 175920: expected 2 fields, saw 5\\nSkipping line 176210: expected 2 fields, saw 5\\nSkipping line 183603: expected 2 fields, saw 5\\nSkipping line 190264: expected 2 fields, saw 5\\nSkipping line 191683: expected 2 fields, saw 5\\nSkipping line 191988: expected 2 fields, saw 5\\nSkipping line 195450: expected 2 fields, saw 5\\nSkipping line 195754: expected 2 fields, saw 5\\nSkipping line 197124: expected 2 fields, saw 5\\nSkipping line 199263: expected 2 fields, saw 5\\nSkipping line 202603: expected 2 fields, saw 5\\nSkipping line 209960: expected 2 fields, saw 5\\nSkipping line 213218: expected 2 fields, saw 5\\nSkipping line 217060: expected 2 fields, saw 5\\nSkipping line 220121: expected 2 fields, saw 5\\nSkipping line 223518: expected 2 fields, saw 5\\nSkipping line 226293: expected 2 fields, saw 5\\nSkipping line 227035: expected 2 fields, saw 7\\nSkipping line 227341: expected 2 fields, saw 5\\nSkipping line 227808: expected 2 fields, saw 5\\nSkipping line 228516: expected 2 fields, saw 5\\nSkipping line 228733: expected 2 fields, saw 5\\nSkipping line 232043: expected 2 fields, saw 5\\nSkipping line 232426: expected 2 fields, saw 5\\nSkipping line 234490: expected 2 fields, saw 5\\nSkipping line 239626: expected 2 fields, saw 5\\nSkipping line 240461: expected 2 fields, saw 5\\nSkipping line 244518: expected 2 fields, saw 5\\nSkipping line 245395: expected 2 fields, saw 5\\nSkipping line 246168: expected 2 fields, saw 5\\nSkipping line 246655: expected 2 fields, saw 5\\nSkipping line 246752: expected 2 fields, saw 5\\nSkipping line 247189: expected 2 fields, saw 5\\nSkipping line 250276: expected 2 fields, saw 5\\nSkipping line 255327: expected 2 fields, saw 5\\nSkipping line 257094: expected 2 fields, saw 5\\n'\n",
            "b'Skipping line 264626: expected 2 fields, saw 5\\nSkipping line 265028: expected 2 fields, saw 5\\nSkipping line 269150: expected 2 fields, saw 5\\nSkipping line 271360: expected 2 fields, saw 5\\nSkipping line 273975: expected 2 fields, saw 5\\nSkipping line 274742: expected 2 fields, saw 5\\nSkipping line 276227: expected 2 fields, saw 5\\nSkipping line 279807: expected 2 fields, saw 5\\nSkipping line 283425: expected 2 fields, saw 5\\nSkipping line 287468: expected 2 fields, saw 5\\nSkipping line 292995: expected 2 fields, saw 5\\nSkipping line 293496: expected 2 fields, saw 5\\nSkipping line 293735: expected 2 fields, saw 5\\nSkipping line 295060: expected 2 fields, saw 5\\nSkipping line 296643: expected 2 fields, saw 5\\nSkipping line 296848: expected 2 fields, saw 5\\nSkipping line 308926: expected 2 fields, saw 5\\nSkipping line 310360: expected 2 fields, saw 5\\nSkipping line 317004: expected 2 fields, saw 5\\nSkipping line 318207: expected 2 fields, saw 5\\nSkipping line 331783: expected 2 fields, saw 5\\nSkipping line 333864: expected 2 fields, saw 5\\nSkipping line 335958: expected 2 fields, saw 5\\nSkipping line 336290: expected 2 fields, saw 5\\nSkipping line 343526: expected 2 fields, saw 5\\nSkipping line 343857: expected 2 fields, saw 5\\nSkipping line 344059: expected 2 fields, saw 5\\nSkipping line 348691: expected 2 fields, saw 5\\nSkipping line 353446: expected 2 fields, saw 5\\nSkipping line 357073: expected 2 fields, saw 5\\nSkipping line 359753: expected 2 fields, saw 5\\nSkipping line 359974: expected 2 fields, saw 5\\nSkipping line 366534: expected 2 fields, saw 5\\nSkipping line 369514: expected 2 fields, saw 5\\nSkipping line 377759: expected 2 fields, saw 5\\nSkipping line 379327: expected 2 fields, saw 5\\nSkipping line 380769: expected 2 fields, saw 5\\nSkipping line 381073: expected 2 fields, saw 5\\nSkipping line 381489: expected 2 fields, saw 5\\nSkipping line 386304: expected 2 fields, saw 5\\nSkipping line 387635: expected 2 fields, saw 5\\nSkipping line 389613: expected 2 fields, saw 5\\nSkipping line 392604: expected 2 fields, saw 5\\nSkipping line 393184: expected 2 fields, saw 5\\nSkipping line 395530: expected 2 fields, saw 5\\nSkipping line 396939: expected 2 fields, saw 5\\nSkipping line 397385: expected 2 fields, saw 5\\nSkipping line 397509: expected 2 fields, saw 5\\nSkipping line 402902: expected 2 fields, saw 5\\nSkipping line 405187: expected 2 fields, saw 5\\nSkipping line 408412: expected 2 fields, saw 5\\nSkipping line 419423: expected 2 fields, saw 5\\nSkipping line 420962: expected 2 fields, saw 5\\nSkipping line 425965: expected 2 fields, saw 5\\nSkipping line 427496: expected 2 fields, saw 5\\nSkipping line 438881: expected 2 fields, saw 5\\nSkipping line 439776: expected 2 fields, saw 5\\nSkipping line 440345: expected 2 fields, saw 5\\nSkipping line 445507: expected 2 fields, saw 5\\nSkipping line 445548: expected 2 fields, saw 5\\nSkipping line 447184: expected 2 fields, saw 5\\nSkipping line 448603: expected 2 fields, saw 5\\nSkipping line 451732: expected 2 fields, saw 5\\nSkipping line 458249: expected 2 fields, saw 5\\nSkipping line 460274: expected 2 fields, saw 5\\nSkipping line 467630: expected 2 fields, saw 5\\nSkipping line 473961: expected 2 fields, saw 5\\nSkipping line 476281: expected 2 fields, saw 5\\nSkipping line 478010: expected 2 fields, saw 5\\nSkipping line 478322: expected 2 fields, saw 5\\nSkipping line 479999: expected 2 fields, saw 5\\nSkipping line 480898: expected 2 fields, saw 5\\nSkipping line 481688: expected 2 fields, saw 5\\nSkipping line 485193: expected 2 fields, saw 5\\nSkipping line 485519: expected 2 fields, saw 5\\nSkipping line 486000: expected 2 fields, saw 5\\nSkipping line 489063: expected 2 fields, saw 5\\nSkipping line 494525: expected 2 fields, saw 5\\nSkipping line 495009: expected 2 fields, saw 5\\nSkipping line 501954: expected 2 fields, saw 5\\nSkipping line 508035: expected 2 fields, saw 5\\nSkipping line 508828: expected 2 fields, saw 5\\nSkipping line 509833: expected 2 fields, saw 5\\nSkipping line 510410: expected 2 fields, saw 5\\nSkipping line 518229: expected 2 fields, saw 5\\nSkipping line 520302: expected 2 fields, saw 5\\nSkipping line 520340: expected 2 fields, saw 5\\n'\n",
            "b'Skipping line 525174: expected 2 fields, saw 5\\nSkipping line 526251: expected 2 fields, saw 5\\nSkipping line 529611: expected 2 fields, saw 5\\nSkipping line 531398: expected 2 fields, saw 5\\nSkipping line 534146: expected 2 fields, saw 5\\nSkipping line 544954: expected 2 fields, saw 5\\nSkipping line 553002: expected 2 fields, saw 5\\nSkipping line 553883: expected 2 fields, saw 5\\nSkipping line 553887: expected 2 fields, saw 5\\nSkipping line 553915: expected 2 fields, saw 5\\nSkipping line 554172: expected 2 fields, saw 5\\nSkipping line 563534: expected 2 fields, saw 5\\nSkipping line 565191: expected 2 fields, saw 5\\nSkipping line 574108: expected 2 fields, saw 5\\nSkipping line 574412: expected 2 fields, saw 5\\nSkipping line 575985: expected 2 fields, saw 5\\nSkipping line 580091: expected 2 fields, saw 5\\nSkipping line 582682: expected 2 fields, saw 5\\nSkipping line 585885: expected 2 fields, saw 5\\nSkipping line 590171: expected 2 fields, saw 5\\nSkipping line 591924: expected 2 fields, saw 5\\nSkipping line 592515: expected 2 fields, saw 5\\nSkipping line 593888: expected 2 fields, saw 5\\nSkipping line 596245: expected 2 fields, saw 5\\nSkipping line 607344: expected 2 fields, saw 5\\nSkipping line 607633: expected 2 fields, saw 5\\nSkipping line 610939: expected 2 fields, saw 5\\nSkipping line 613638: expected 2 fields, saw 5\\nSkipping line 615643: expected 2 fields, saw 5\\nSkipping line 615901: expected 2 fields, saw 5\\nSkipping line 617389: expected 2 fields, saw 5\\nSkipping line 634641: expected 2 fields, saw 5\\nSkipping line 635755: expected 2 fields, saw 5\\nSkipping line 646243: expected 2 fields, saw 5\\nSkipping line 647165: expected 2 fields, saw 5\\nSkipping line 648610: expected 2 fields, saw 5\\nSkipping line 648772: expected 2 fields, saw 5\\nSkipping line 651833: expected 2 fields, saw 5\\nSkipping line 653663: expected 2 fields, saw 5\\nSkipping line 656233: expected 2 fields, saw 5\\nSkipping line 656694: expected 2 fields, saw 5\\nSkipping line 659783: expected 2 fields, saw 5\\nSkipping line 660478: expected 2 fields, saw 5\\nSkipping line 661133: expected 2 fields, saw 5\\nSkipping line 661736: expected 2 fields, saw 5\\nSkipping line 669827: expected 2 fields, saw 5\\n'\n"
          ]
        },
        {
          "output_type": "execute_result",
          "data": {
            "text/html": [
              "<div>\n",
              "<style scoped>\n",
              "    .dataframe tbody tr th:only-of-type {\n",
              "        vertical-align: middle;\n",
              "    }\n",
              "\n",
              "    .dataframe tbody tr th {\n",
              "        vertical-align: top;\n",
              "    }\n",
              "\n",
              "    .dataframe thead th {\n",
              "        text-align: right;\n",
              "    }\n",
              "</style>\n",
              "<table border=\"1\" class=\"dataframe\">\n",
              "  <thead>\n",
              "    <tr style=\"text-align: right;\">\n",
              "      <th></th>\n",
              "      <th>password</th>\n",
              "      <th>strength</th>\n",
              "    </tr>\n",
              "  </thead>\n",
              "  <tbody>\n",
              "    <tr>\n",
              "      <th>0</th>\n",
              "      <td>kzde5577</td>\n",
              "      <td>1</td>\n",
              "    </tr>\n",
              "    <tr>\n",
              "      <th>1</th>\n",
              "      <td>kino3434</td>\n",
              "      <td>1</td>\n",
              "    </tr>\n",
              "    <tr>\n",
              "      <th>2</th>\n",
              "      <td>visi7k1yr</td>\n",
              "      <td>1</td>\n",
              "    </tr>\n",
              "    <tr>\n",
              "      <th>3</th>\n",
              "      <td>megzy123</td>\n",
              "      <td>1</td>\n",
              "    </tr>\n",
              "    <tr>\n",
              "      <th>4</th>\n",
              "      <td>lamborghin1</td>\n",
              "      <td>1</td>\n",
              "    </tr>\n",
              "    <tr>\n",
              "      <th>...</th>\n",
              "      <td>...</td>\n",
              "      <td>...</td>\n",
              "    </tr>\n",
              "    <tr>\n",
              "      <th>669635</th>\n",
              "      <td>10redtux10</td>\n",
              "      <td>1</td>\n",
              "    </tr>\n",
              "    <tr>\n",
              "      <th>669636</th>\n",
              "      <td>infrared1</td>\n",
              "      <td>1</td>\n",
              "    </tr>\n",
              "    <tr>\n",
              "      <th>669637</th>\n",
              "      <td>184520socram</td>\n",
              "      <td>1</td>\n",
              "    </tr>\n",
              "    <tr>\n",
              "      <th>669638</th>\n",
              "      <td>marken22a</td>\n",
              "      <td>1</td>\n",
              "    </tr>\n",
              "    <tr>\n",
              "      <th>669639</th>\n",
              "      <td>fxx4pw4g</td>\n",
              "      <td>1</td>\n",
              "    </tr>\n",
              "  </tbody>\n",
              "</table>\n",
              "<p>669640 rows × 2 columns</p>\n",
              "</div>"
            ],
            "text/plain": [
              "            password  strength\n",
              "0           kzde5577         1\n",
              "1           kino3434         1\n",
              "2          visi7k1yr         1\n",
              "3           megzy123         1\n",
              "4        lamborghin1         1\n",
              "...              ...       ...\n",
              "669635    10redtux10         1\n",
              "669636     infrared1         1\n",
              "669637  184520socram         1\n",
              "669638     marken22a         1\n",
              "669639      fxx4pw4g         1\n",
              "\n",
              "[669640 rows x 2 columns]"
            ]
          },
          "metadata": {},
          "execution_count": 5
        }
      ]
    },
    {
      "cell_type": "code",
      "metadata": {
        "colab": {
          "base_uri": "https://localhost:8080/"
        },
        "id": "WcVqW_YcDw1Y",
        "outputId": "e55ee86f-6e67-474c-94c8-3674d266b0cf"
      },
      "source": [
        "data['strength'].unique()"
      ],
      "execution_count": 6,
      "outputs": [
        {
          "output_type": "execute_result",
          "data": {
            "text/plain": [
              "array([1, 2, 0])"
            ]
          },
          "metadata": {},
          "execution_count": 6
        }
      ]
    },
    {
      "cell_type": "code",
      "metadata": {
        "id": "yE0411MVDwqa"
      },
      "source": [
        ""
      ],
      "execution_count": 6,
      "outputs": []
    },
    {
      "cell_type": "code",
      "metadata": {
        "colab": {
          "base_uri": "https://localhost:8080/"
        },
        "id": "Kev8M3vsFmFy",
        "outputId": "e124f4f6-e3c4-4ff2-e7e0-6fc0e2ace23c"
      },
      "source": [
        "data.isna().sum()"
      ],
      "execution_count": 7,
      "outputs": [
        {
          "output_type": "execute_result",
          "data": {
            "text/plain": [
              "password    1\n",
              "strength    0\n",
              "dtype: int64"
            ]
          },
          "metadata": {},
          "execution_count": 7
        }
      ]
    },
    {
      "cell_type": "code",
      "metadata": {
        "colab": {
          "base_uri": "https://localhost:8080/",
          "height": 81
        },
        "id": "Ial2FrsZFpe5",
        "outputId": "4883dfef-ef78-4a26-b1cd-1708f01937b0"
      },
      "source": [
        "data[data['password'].isnull()]"
      ],
      "execution_count": 8,
      "outputs": [
        {
          "output_type": "execute_result",
          "data": {
            "text/html": [
              "<div>\n",
              "<style scoped>\n",
              "    .dataframe tbody tr th:only-of-type {\n",
              "        vertical-align: middle;\n",
              "    }\n",
              "\n",
              "    .dataframe tbody tr th {\n",
              "        vertical-align: top;\n",
              "    }\n",
              "\n",
              "    .dataframe thead th {\n",
              "        text-align: right;\n",
              "    }\n",
              "</style>\n",
              "<table border=\"1\" class=\"dataframe\">\n",
              "  <thead>\n",
              "    <tr style=\"text-align: right;\">\n",
              "      <th></th>\n",
              "      <th>password</th>\n",
              "      <th>strength</th>\n",
              "    </tr>\n",
              "  </thead>\n",
              "  <tbody>\n",
              "    <tr>\n",
              "      <th>367579</th>\n",
              "      <td>NaN</td>\n",
              "      <td>0</td>\n",
              "    </tr>\n",
              "  </tbody>\n",
              "</table>\n",
              "</div>"
            ],
            "text/plain": [
              "       password  strength\n",
              "367579      NaN         0"
            ]
          },
          "metadata": {},
          "execution_count": 8
        }
      ]
    },
    {
      "cell_type": "code",
      "metadata": {
        "id": "TcPh_AntFyBr"
      },
      "source": [
        "data.dropna(inplace=True)"
      ],
      "execution_count": 9,
      "outputs": []
    },
    {
      "cell_type": "code",
      "metadata": {
        "colab": {
          "base_uri": "https://localhost:8080/"
        },
        "id": "3SU6MlWuGBch",
        "outputId": "e50abe7e-4d72-4cdd-f692-18ffb21bc6d9"
      },
      "source": [
        "data.isnull().sum()"
      ],
      "execution_count": 10,
      "outputs": [
        {
          "output_type": "execute_result",
          "data": {
            "text/plain": [
              "password    0\n",
              "strength    0\n",
              "dtype: int64"
            ]
          },
          "metadata": {},
          "execution_count": 10
        }
      ]
    },
    {
      "cell_type": "code",
      "metadata": {
        "colab": {
          "base_uri": "https://localhost:8080/",
          "height": 296
        },
        "id": "On5LryE-GF_n",
        "outputId": "5ff8a385-c130-49d4-e04d-dd9162d0c0a3"
      },
      "source": [
        "sns.countplot(data['strength'])"
      ],
      "execution_count": 11,
      "outputs": [
        {
          "output_type": "execute_result",
          "data": {
            "text/plain": [
              "<matplotlib.axes._subplots.AxesSubplot at 0x7f0bffeda910>"
            ]
          },
          "metadata": {},
          "execution_count": 11
        },
        {
          "output_type": "display_data",
          "data": {
            "image/png": "[encoded data removed]",
            "text/plain": [
              "<Figure size 432x288 with 1 Axes>"
            ]
          },
          "metadata": {
            "needs_background": "light"
          }
        }
      ]
    },
    {
      "cell_type": "code",
      "metadata": {
        "id": "RjRfqS2nGJqg"
      },
      "source": [
        "password_tuple=np.array(data)"
      ],
      "execution_count": 12,
      "outputs": []
    },
    {
      "cell_type": "code",
      "metadata": {
        "colab": {
          "base_uri": "https://localhost:8080/"
        },
        "id": "ON_ZNHdmGhdE",
        "outputId": "ad8bff52-4a39-445e-a618-660e6910e475"
      },
      "source": [
        "password_tuple"
      ],
      "execution_count": 13,
      "outputs": [
        {
          "output_type": "execute_result",
          "data": {
            "text/plain": [
              "array([['kzde5577', 1],\n",
              "       ['kino3434', 1],\n",
              "       ['visi7k1yr', 1],\n",
              "       ...,\n",
              "       ['184520socram', 1],\n",
              "       ['marken22a', 1],\n",
              "       ['fxx4pw4g', 1]], dtype=object)"
            ]
          },
          "metadata": {},
          "execution_count": 13
        }
      ]
    },
    {
      "cell_type": "code",
      "metadata": {
        "id": "KPJmHopLGj14"
      },
      "source": [
        "import random\n",
        "random.shuffle(password_tuple)"
      ],
      "execution_count": 14,
      "outputs": []
    },
    {
      "cell_type": "code",
      "metadata": {
        "id": "NKJKn6odGvbk"
      },
      "source": [
        "x=[labels[0] for labels in password_tuple]\n",
        "y=[labels[1] for labels in password_tuple]"
      ],
      "execution_count": 15,
      "outputs": []
    },
    {
      "cell_type": "code",
      "metadata": {
        "colab": {
          "base_uri": "https://localhost:8080/"
        },
        "id": "MPgDRBkGHChn",
        "outputId": "8fa950d9-8ece-43c6-e06d-77aeb65534af"
      },
      "source": [
        "x"
      ],
      "execution_count": 16,
      "outputs": [
        {
          "output_type": "execute_result",
          "data": {
            "text/plain": [
              "['kzde5577',\n",
              " 'kino3434',\n",
              " 'kzde5577',\n",
              " 'visi7k1yr',\n",
              " 'megzy123',\n",
              " 'kzde5577',\n",
              " 'visi7k1yr',\n",
              " 'u6c8vhow',\n",
              " 'lamborghin1',\n",
              " 'kino3434',\n",
              " 'kino3434',\n",
              " 'kzde5577',\n",
              " '612035180tok',\n",
              " 'lamborghin1',\n",
              " 'as326159',\n",
              " 'megzy123',\n",
              " 'jytifok873',\n",
              " 'kzde5577',\n",
              " 'visi7k1yr',\n",
              " 'g067057895',\n",
              " '612035180tok',\n",
              " 'g067057895',\n",
              " 'sbl571017',\n",
              " 'g067057895',\n",
              " 'megzy123',\n",
              " 'u6c8vhow',\n",
              " 'universe2908',\n",
              " 'visi7k1yr',\n",
              " 'kzde5577',\n",
              " 'sbl571017',\n",
              " 'jerusalem393',\n",
              " 'gaymaids1',\n",
              " 'trabajonet9',\n",
              " 'megzy123',\n",
              " 'idofo673',\n",
              " 'idofo673',\n",
              " 'jytifok873',\n",
              " '6975038lp',\n",
              " 'kswa2mrv',\n",
              " 'jerusalem393',\n",
              " 'visi7k1yr',\n",
              " 'czuodhj972',\n",
              " 'fahad123',\n",
              " 'fk9qi21m',\n",
              " 'kswa2mrv',\n",
              " 'cigicigi123',\n",
              " 'kino3434',\n",
              " 'TyWM72UNEex8Q8Y',\n",
              " 'kswa2mrv',\n",
              " 'alimagik1',\n",
              " 'asv5o9yu',\n",
              " 'lamborghin1',\n",
              " 'TyWM72UNEex8Q8Y',\n",
              " 'yqugu927',\n",
              " 'tamanagung6',\n",
              " 'intel1',\n",
              " 'ejeko677',\n",
              " 'kzde5577',\n",
              " 'ejeko677',\n",
              " 'schalke04',\n",
              " 'a2531106',\n",
              " 'megzy123',\n",
              " 'matiofox08',\n",
              " 'patri1973',\n",
              " 'u6c8vhow',\n",
              " 'cigicigi123',\n",
              " 'go7kew7a2po',\n",
              " 'asgaliu11',\n",
              " 'idofo673',\n",
              " 'czuodhj972',\n",
              " 'lamborghin1',\n",
              " 'jerusalem393',\n",
              " 'Iamthelegend1!',\n",
              " 'cesarmaio1',\n",
              " 'go7kew7a2po',\n",
              " 'universe2908',\n",
              " 'idofo673',\n",
              " 'obstacle25',\n",
              " 'obstacle25',\n",
              " 'schalke04',\n",
              " 'sbl571017',\n",
              " 'k9b8cz6aj2',\n",
              " 'd04m11',\n",
              " 'kzde5577',\n",
              " 'gdfn76',\n",
              " 'pHyqueDIyNQ8vmhb',\n",
              " 'ga98SIzk0NwhiZaE',\n",
              " 'memjan123',\n",
              " 'lsdlsd1',\n",
              " 'd04m11',\n",
              " 'il0vey0u',\n",
              " 'tamanagung6',\n",
              " 'fahad123',\n",
              " '838188linh',\n",
              " 'openup12',\n",
              " 'gill02',\n",
              " 'rntprns7',\n",
              " 'idofo673',\n",
              " 'jerusalem393',\n",
              " 'gkrqjs6',\n",
              " 'kjkjkj1',\n",
              " 'hodygid757',\n",
              " 'juliana19',\n",
              " 'b4NbTxDEyNgG141J',\n",
              " 'go7kew7a2po',\n",
              " 'rntprns7',\n",
              " 'mmm23mm',\n",
              " 'p2share',\n",
              " 'fahad123',\n",
              " 'bgrvl80',\n",
              " 'sbl571017',\n",
              " 'b4NbTxDEyNgG141J',\n",
              " 'kunyukbabi69',\n",
              " 'znbl5tj1',\n",
              " 'gill02',\n",
              " 'gill02',\n",
              " 'kjkjkj1',\n",
              " 'prisonbreak1',\n",
              " 'teemteem97',\n",
              " 'elyass15@ajilent-ci',\n",
              " 'k9b8cz6aj2',\n",
              " 'asgaliu11',\n",
              " 'v1118714',\n",
              " 'elonex24',\n",
              " 'bgrvl80',\n",
              " '283671gus',\n",
              " 'cesarmaio1',\n",
              " 'yqugu927',\n",
              " 'yk530mg8',\n",
              " '2akira2',\n",
              " 'juliel009',\n",
              " 'go7kew7a2po',\n",
              " 'c3h8bkzr',\n",
              " 'intel1',\n",
              " 'jonothepoop1',\n",
              " 's4m2dx9e6',\n",
              " 'teemteem97',\n",
              " 'gill02',\n",
              " 'fk9qi21m',\n",
              " 'openup12',\n",
              " 'Iamthelegend1!',\n",
              " 'juliel009',\n",
              " 'mickael12',\n",
              " 'woon12',\n",
              " 'kzde5577',\n",
              " 'idofo673',\n",
              " 'd04m11',\n",
              " 'Iamthelegend1!',\n",
              " 'ok>bdk',\n",
              " 'exitos2009',\n",
              " 'xyws951753',\n",
              " '2010server',\n",
              " 'ga98SIzk0NwhiZaE',\n",
              " 'lsdlsd1',\n",
              " 'v1118714',\n",
              " '6tequila6',\n",
              " 'idofo673',\n",
              " '746xitEGiqObog',\n",
              " 'visi7k1yr',\n",
              " 'kzde5577',\n",
              " 'z3ro1sm',\n",
              " 'hayhayq2',\n",
              " 'jonothepoop1',\n",
              " 'alchimie79',\n",
              " 'asgaliu11',\n",
              " 'www32223222',\n",
              " 'yu4cmn',\n",
              " 'idofo673',\n",
              " 'sknq7m0',\n",
              " 'wisal1234',\n",
              " 'yqugu927',\n",
              " 'mmm23mm',\n",
              " 'kjkjkj1',\n",
              " '3vszncp4',\n",
              " 'peluchin4',\n",
              " 'potatobus150',\n",
              " 'kino3434',\n",
              " 'mickael12',\n",
              " 'gill02',\n",
              " '147963asd',\n",
              " 'gdfn76',\n",
              " '2akira2',\n",
              " 'ok>bdk',\n",
              " 'schalke04',\n",
              " '1972vishara',\n",
              " 'omakiva153',\n",
              " 'kVczcljg4OA25Aeb',\n",
              " 'k1k2k3k4k5k6',\n",
              " '147963asd',\n",
              " '612035180tok',\n",
              " 's9830950044',\n",
              " 'cigicigi123',\n",
              " 'nello11',\n",
              " 'bgrvl80',\n",
              " '12345yolanda',\n",
              " '20Dgw7TQ0OQVdly7',\n",
              " 'trabajonet9',\n",
              " 'sknq7m0',\n",
              " 'teste10',\n",
              " 'tamanagung6',\n",
              " 'xiau5ff',\n",
              " 'elyass15@ajilent-ci',\n",
              " 'wisal1234',\n",
              " 'schalke04',\n",
              " 'p2share',\n",
              " 'nicolas05',\n",
              " 'mmm23mm',\n",
              " 'elonex24',\n",
              " 'z7zbgIDkzMQeHUd9',\n",
              " 'finisterra1',\n",
              " 'jonothepoop1',\n",
              " 'kzde5577',\n",
              " '64959rodro',\n",
              " 'faranumar91',\n",
              " 'kinga22',\n",
              " 'czuodhj972',\n",
              " 'moken7',\n",
              " 'q0pv0fk',\n",
              " 'jytifok873',\n",
              " '4osxw4r',\n",
              " 'jonothepoop1',\n",
              " 'mazdarx7',\n",
              " 'g067057895',\n",
              " 'peluchin4',\n",
              " 'kino3434',\n",
              " 'marita1',\n",
              " 'nK0yKXTU0NQHZE2e',\n",
              " 'hodygid757',\n",
              " 'openup12',\n",
              " 'planes123',\n",
              " 'snolyuj04',\n",
              " 'gandhi8513',\n",
              " 'jerusalem393',\n",
              " 'tia150979',\n",
              " 'IjUcOtYqAwel725',\n",
              " 'pato221182',\n",
              " 'lsdlsd1',\n",
              " 'woon12',\n",
              " 'X9WVojjE4MgVAIiR',\n",
              " 'yut0838828185',\n",
              " 'fahad123',\n",
              " '746xitEGiqObog',\n",
              " 'juliana19',\n",
              " 'asv5o9yu',\n",
              " '4fqa52vecr',\n",
              " 'tucagu356',\n",
              " '3vszncp4',\n",
              " 'yu4cmn',\n",
              " 'yuri110995',\n",
              " 'marita1',\n",
              " 'b4NbTxDEyNgG141J',\n",
              " 'khmer100.03278&?><Mnb',\n",
              " '4osxw4r',\n",
              " 'sanki1',\n",
              " 'sknq7m0',\n",
              " 'hayhayq2',\n",
              " 'rLLh4WDQ2OAWbDO5',\n",
              " 'mohantra1',\n",
              " 'RqsuUsDYxNgr8T40',\n",
              " 'barra23',\n",
              " 'Iamthelegend1!',\n",
              " 'AVYq1lDE4MgAZfNt',\n",
              " '10Erjrlmebup0n',\n",
              " 'gkrqjs6',\n",
              " 'd04m11',\n",
              " 'kVczcljg4OA25Aeb',\n",
              " 's4m2dx9e6',\n",
              " 'v1118714',\n",
              " 'ldteugao6',\n",
              " 'gill02',\n",
              " 'vehat387',\n",
              " 'lsdlsd1',\n",
              " 'yitbos77',\n",
              " 'hosna1368',\n",
              " 'juliel009',\n",
              " 'polo2014',\n",
              " 'WUt9IZzE0OQ7PkNE',\n",
              " 'lrhxmevb620',\n",
              " '5gzj5uf',\n",
              " 'pato221182',\n",
              " 'sknq7m0',\n",
              " 'xiau5ff',\n",
              " 'jalal123456',\n",
              " 'faranumar91',\n",
              " 'ga98SIzk0NwhiZaE',\n",
              " 's4m2dx9e6',\n",
              " 'bugatti01',\n",
              " 'portales1',\n",
              " 'znbl5tj1',\n",
              " 'QWERTY0011',\n",
              " 'wibi182d',\n",
              " 'AS0130066',\n",
              " 'taurofive16',\n",
              " 'TyWM72UNEex8Q8Y',\n",
              " 'moken7',\n",
              " 'q0pv0fk',\n",
              " 'kry1z9',\n",
              " 'kuntz80',\n",
              " 'farrukhcse12',\n",
              " 'idofo673',\n",
              " 'kVczcljg4OA25Aeb',\n",
              " 'barboza221294',\n",
              " 'sasuke4',\n",
              " 'a110804032',\n",
              " 'AVYq1lDE4MgAZfNt',\n",
              " 'pablo321159',\n",
              " 'kikeq102',\n",
              " 'wibi182d',\n",
              " '3CgRg8DA1NQY1iEj',\n",
              " 'xiau5ff',\n",
              " '159951josh',\n",
              " 'abizar08',\n",
              " '10Erjrlmebup0n',\n",
              " '929865yt',\n",
              " 'puegwajy416',\n",
              " '215466kenyi',\n",
              " 'g067057895',\n",
              " 't8IkFRDIxMAFV2JW',\n",
              " '283671gus',\n",
              " 'ts34a3fodh3i',\n",
              " '20Dgw7TQ0OQVdly7',\n",
              " 'frhnsvelhfr1',\n",
              " 'ass359',\n",
              " 'bugatti01',\n",
              " 'zgmfnwuq25',\n",
              " 'mathilde54550',\n",
              " 'ajyrew547',\n",
              " 'XqMB7vDMzOQocAFV',\n",
              " 'z3ro1sm',\n",
              " 'afavin964',\n",
              " 't8IkFRDIxMAFV2JW',\n",
              " 'ns2b0727',\n",
              " 'holamundo1',\n",
              " 'asv5o9yu',\n",
              " 'pato221182',\n",
              " 'asgaliu11',\n",
              " 'gkrqjs6',\n",
              " 'memjan123',\n",
              " 'colorado27',\n",
              " 'uou2dae',\n",
              " '5gzj5uf',\n",
              " 'xlxlxl777',\n",
              " 'den019520',\n",
              " 'roxana1993',\n",
              " 'aslpls2009',\n",
              " 'bgrvl80',\n",
              " 'sasuke4',\n",
              " 'qn5xpg3k00',\n",
              " 'xW8-3w7-MFB-CKH',\n",
              " 'acetita478',\n",
              " 'clyioqzgw42',\n",
              " 'shotiko18',\n",
              " 'cUFUSYKIPuGo024',\n",
              " 'e667794c1d',\n",
              " 'nK0yKXTU0NQHZE2e',\n",
              " 'snolyuj04',\n",
              " 'ns2b0727',\n",
              " 'clave08',\n",
              " 'hpqkoxsn5',\n",
              " 'wo9aiwangyan',\n",
              " 'mmm23mm',\n",
              " 'folashade1',\n",
              " 'atigi839',\n",
              " 'atigi839',\n",
              " 'AVYq1lDE4MgAZfNt',\n",
              " '159951josh',\n",
              " 'lzhzad1989',\n",
              " '3vszncp4',\n",
              " 'yy4129',\n",
              " 'mickael12',\n",
              " 'samael666',\n",
              " 'meriton23',\n",
              " 'afs34214',\n",
              " '6tequila6',\n",
              " 'mike09',\n",
              " 'visi7k1yr',\n",
              " 'w9209640',\n",
              " 'wisal1234',\n",
              " 'gvczfel801',\n",
              " 'puegwajy416',\n",
              " 'e667794c1d',\n",
              " 'jUV4dSDQwNwPpA36',\n",
              " 'AVYq1lDE4MgAZfNt',\n",
              " 'kitty555',\n",
              " 'teste10',\n",
              " 'yu4cmn',\n",
              " 'ga98SIzk0NwhiZaE',\n",
              " 'sbl571017',\n",
              " '2fakjv',\n",
              " 'khaled12',\n",
              " 'mustang337',\n",
              " 'patty94',\n",
              " 'il0vey0u',\n",
              " 'demon10',\n",
              " 'igejasy712',\n",
              " 'lofebop480',\n",
              " 'juliana19',\n",
              " 'mickael12',\n",
              " '4osxw4r',\n",
              " 'TyWM72UNEex8Q8Y',\n",
              " 'vuqADUSatAJO800',\n",
              " 'examy624',\n",
              " 'www32223222',\n",
              " '215466kenyi',\n",
              " 'mario489800',\n",
              " 'pHyqueDIyNQ8vmhb',\n",
              " 'VMjz4eTkxNAbOyUU',\n",
              " 'bgrvl80',\n",
              " 'vehat387',\n",
              " 'fk9qi21m',\n",
              " 'owote852',\n",
              " '6tequila6',\n",
              " 'cUFUSYKIPuGo024',\n",
              " 'sd6x9s3s',\n",
              " 'ok>bdk',\n",
              " 's0xwym7h',\n",
              " 'AS0130066',\n",
              " 'kinga22',\n",
              " 'jUV4dSDQwNwPpA36',\n",
              " 'YADHJIGSAWS11',\n",
              " 'gandhi8513',\n",
              " 'trabajonet9',\n",
              " 'ajyrew547',\n",
              " 'omakiva153',\n",
              " 'oatcake87',\n",
              " '7942vikas',\n",
              " '147963asd',\n",
              " 's9830950044',\n",
              " '6yy6yy',\n",
              " 'sanki1',\n",
              " 'obstacle25',\n",
              " '2021848709.',\n",
              " 'senghong2009',\n",
              " 'roxana1993',\n",
              " 'yitbos77',\n",
              " 'hayhayq2',\n",
              " 'hpqkoxsn5',\n",
              " 'universe2908',\n",
              " '20010509wang',\n",
              " '123nicole',\n",
              " 'IRZA98',\n",
              " 'x8512514',\n",
              " 'tomas7896',\n",
              " 'yami12',\n",
              " 'Staterkom20081993',\n",
              " 'kdl9cl53',\n",
              " 'bozoxik602',\n",
              " '1qa2ws3ed4r',\n",
              " 'q0pv0fk',\n",
              " 'taulant123',\n",
              " 'rLLh4WDQ2OAWbDO5',\n",
              " 'patty94',\n",
              " 'igejasy712',\n",
              " 'planes123',\n",
              " 'novelia21',\n",
              " '123nicole',\n",
              " '2010server',\n",
              " 'hodygid757',\n",
              " 'www32223222',\n",
              " 'gvczfel801',\n",
              " 'acetita478',\n",
              " 'u6c8vhow',\n",
              " 'kuntz80',\n",
              " '2yz4ewwg',\n",
              " '7mV0pKTA3MgHy8Jv',\n",
              " 'tin030201',\n",
              " 'kah4544875',\n",
              " 'sd6x9s3s',\n",
              " 'gvczfel801',\n",
              " 'control9',\n",
              " 'www32223222',\n",
              " '0112358mayin0',\n",
              " '123net123',\n",
              " 'bozoxik602',\n",
              " 'gaymaids1',\n",
              " 'gerardway1',\n",
              " 'c3h8bkzr',\n",
              " 'qopybuxi2',\n",
              " 'autan88',\n",
              " 'olmaz.',\n",
              " 'n501iomf',\n",
              " 'den019520',\n",
              " '9950twofour0',\n",
              " 'Iamthelegend1!',\n",
              " 'lamborghin1',\n",
              " 'robot425',\n",
              " 'UF1Z2WjE5Mg26R1K',\n",
              " 'sbaUsoTA1OAzuevI',\n",
              " 's9830950044',\n",
              " 'yk530mg8',\n",
              " 'rrilni1747',\n",
              " 'xf6385494',\n",
              " '1katertje',\n",
              " 'a0972986650',\n",
              " 'gaymaids1',\n",
              " 'eVl19ADIxNAmU09N',\n",
              " 'vgnfs495vp',\n",
              " 'gandhi8513',\n",
              " 'nK0yKXTU0NQHZE2e',\n",
              " 'vehat387',\n",
              " 'poilkjmnb987',\n",
              " 'barra23',\n",
              " 'woon12',\n",
              " 'jsm159167',\n",
              " 'juliana19',\n",
              " 'parvizrus13',\n",
              " 'ns2b0727',\n",
              " 'sbaUsoTA1OAzuevI',\n",
              " 'clyioqzgw42',\n",
              " '847XagYxUHUXOW',\n",
              " 'pugceya468',\n",
              " '283671gus',\n",
              " 'www32223222',\n",
              " 'change201',\n",
              " 'kP82iqDMxNgBMxBP',\n",
              " 'tim80327',\n",
              " 'aslanmarco007',\n",
              " 'arigato3',\n",
              " '101010hadis',\n",
              " 'czuodhj972',\n",
              " 'arigato3',\n",
              " 'cristiano7',\n",
              " 'meopvywk628',\n",
              " 'barboza221294',\n",
              " 'caramelo9',\n",
              " 'wuzyci421',\n",
              " 'mega0109',\n",
              " 'kenyu001',\n",
              " 'j09000',\n",
              " 'gandhi8513',\n",
              " 'ns2b0727',\n",
              " 'zcsntdmhe098',\n",
              " 'juany57',\n",
              " 'ass359',\n",
              " 'juliel009',\n",
              " '6tequila6',\n",
              " '6975038lp',\n",
              " 'just1n0k',\n",
              " '238wofutUtIGyf',\n",
              " 'megzy123',\n",
              " 'acgyj188',\n",
              " 'ga98SIzk0NwhiZaE',\n",
              " 'ikanez886',\n",
              " '159951josh',\n",
              " 'atigi839',\n",
              " 'den019520',\n",
              " 'tim80327',\n",
              " 'kyxvufl37',\n",
              " 'vgnfs495vp',\n",
              " 'kyodai666',\n",
              " '19821010a',\n",
              " 'bgrvl80',\n",
              " 'rntprns7',\n",
              " 'sbnivetha123',\n",
              " 'diarie1',\n",
              " 'pastorius88',\n",
              " 'tim80327',\n",
              " 'rrilni1747',\n",
              " 'arigato3',\n",
              " 'weicat12',\n",
              " 'upomel180',\n",
              " 'a110804032',\n",
              " 'krumbul123',\n",
              " 'xp;ysmybst',\n",
              " 'cUFUSYKIPuGo024',\n",
              " 'pugceya468',\n",
              " 'z7zbgIDkzMQeHUd9',\n",
              " 'woaini0',\n",
              " 'e667794c1d',\n",
              " 'a110804032',\n",
              " 'terrassa6',\n",
              " 'plumilla1',\n",
              " 'lrhxmevb620',\n",
              " 'overlord3127',\n",
              " 'amandine666',\n",
              " 'pugceya468',\n",
              " 'khaled12',\n",
              " 'qopybuxi2',\n",
              " 'ebogel225',\n",
              " 'wasanun13',\n",
              " '631ihOZogELoVap',\n",
              " 'cyborged69',\n",
              " 'mickael12',\n",
              " 'prisonbreak1',\n",
              " 'planes123',\n",
              " 'mazdarx7',\n",
              " 'yk530mg8',\n",
              " '72o0yzekib4',\n",
              " 'bozoxik602',\n",
              " 'stalucia66',\n",
              " 'raykuaz32',\n",
              " 'fudijep286',\n",
              " 'ebogel225',\n",
              " 'asv5o9yu',\n",
              " 'g3rappa',\n",
              " 'kswa2mrv',\n",
              " 'lqksuym982',\n",
              " '6tequila6',\n",
              " 'tomas7896',\n",
              " 'graciela2',\n",
              " 'iwaguh884',\n",
              " 'xp;ysmybst',\n",
              " 'itengf12',\n",
              " 'calcifer32',\n",
              " 'seng987321',\n",
              " 'nello11',\n",
              " 'vuqADUSatAJO800',\n",
              " 'muoaqxwc21',\n",
              " '12345yolanda',\n",
              " 'itengf12',\n",
              " 'kyxvufl37',\n",
              " '23deagosto',\n",
              " 'wbtdrieus345',\n",
              " 'upomel180',\n",
              " 'fudijep286',\n",
              " 'RPFUOUDQwMwVW0AS',\n",
              " 'puegwajy416',\n",
              " 'caramelo9',\n",
              " 'exusop649',\n",
              " 'exusop649',\n",
              " 'BsKbJHTY4NgesCOs',\n",
              " '0870330135a',\n",
              " 'nLIGyhTU1NQTAp6u',\n",
              " 'aosmaxd0',\n",
              " 'mdaffandi74',\n",
              " 'moken7',\n",
              " 'gdfn76',\n",
              " 'b4NbTxDEyNgG141J',\n",
              " 'marita1',\n",
              " 'gaymaids1',\n",
              " '5874813o',\n",
              " 'p2share',\n",
              " 'sono11',\n",
              " '6tequila6',\n",
              " '600eretz',\n",
              " 'pekai2004',\n",
              " 'kenyu001',\n",
              " 'owote852',\n",
              " 'ninja420',\n",
              " 'webhost08',\n",
              " 'mohantra1',\n",
              " 'portales1',\n",
              " 'synyxyr723',\n",
              " '746xitEGiqObog',\n",
              " 'autan88',\n",
              " 'cesarmaio1',\n",
              " 'cifinew817',\n",
              " '727nimdadre',\n",
              " 'princ3sa',\n",
              " 'alhama11408',\n",
              " 'cdann123',\n",
              " 'X9WVojjE4MgVAIiR',\n",
              " 'u03kz6ez',\n",
              " 'snolyuj04',\n",
              " 'kyodai666',\n",
              " 'znbl5tj1',\n",
              " 'markama10',\n",
              " 'krumbul123',\n",
              " 'megzy123',\n",
              " 'folashade1',\n",
              " 'd04m11',\n",
              " 'jekkmoeder>',\n",
              " 'jr88072635',\n",
              " 'nello11',\n",
              " 'aosmaxd0',\n",
              " 'jytifok873',\n",
              " 'z7zbgIDkzMQeHUd9',\n",
              " 'VMjz4eTkxNAbOyUU',\n",
              " 'han19660120',\n",
              " 'hodygid757',\n",
              " 'raykuaz32',\n",
              " 'RRaa--72783530081984',\n",
              " 'balamuc123',\n",
              " 'visi7k1yr',\n",
              " 'IRZA98',\n",
              " 'zidadoh258',\n",
              " 'julie1989',\n",
              " 'ldteugao6',\n",
              " 'pastorius88',\n",
              " 'gutergut599',\n",
              " 'holamundo1',\n",
              " 'openup12',\n",
              " '6yy6yy',\n",
              " 'jekkmoeder>',\n",
              " 'kinga22',\n",
              " 'yu86640132',\n",
              " 'yk530mg8',\n",
              " '3clrcaevu7',\n",
              " '123net123',\n",
              " 'artom111478',\n",
              " 'khaled12',\n",
              " 'krumbul123',\n",
              " '0112358mayin0',\n",
              " 'PEPITO00',\n",
              " 'yitbos77',\n",
              " 'yami12',\n",
              " 'rrilni1747',\n",
              " 'gutergut599',\n",
              " 'moimoimoi9',\n",
              " 'franczuk33',\n",
              " 'nello11',\n",
              " 'bugatti01',\n",
              " 'cifinew817',\n",
              " 'moimoimoi9',\n",
              " 'tspirits08',\n",
              " 'vietnga92',\n",
              " 'asv5o9yu',\n",
              " 'openup12',\n",
              " 'atigi839',\n",
              " 'saule123',\n",
              " 'kVczcljg4OA25Aeb',\n",
              " 'puegwajy416',\n",
              " 'wuzyci421',\n",
              " 'd4xQ3LjUwMQFVCYQ',\n",
              " '6975038lp',\n",
              " '00J46LTAxMgME7C4',\n",
              " 'woogee04',\n",
              " 'ci0n3exor',\n",
              " 'a110804032',\n",
              " 'avanakit72',\n",
              " 'moimoimoi9',\n",
              " 'paulino123',\n",
              " 'cdann123',\n",
              " 'yu4cmn',\n",
              " 'julie1989',\n",
              " 'han19660120',\n",
              " 'yzxwvgbdu503',\n",
              " 'khaled12',\n",
              " 'caramelo9',\n",
              " 'woogee04',\n",
              " 'jalal123456',\n",
              " 'fbjurcd961',\n",
              " 'polo2014',\n",
              " 'barboza221294',\n",
              " 'IjUcOtYqAwel725',\n",
              " 'rsuvxz08b',\n",
              " 'cristiano7',\n",
              " 'rogama69',\n",
              " 's4m2dx9e6',\n",
              " '33kanun03',\n",
              " 'kenyu001',\n",
              " 'papasito1991',\n",
              " 'weicat12',\n",
              " 'alhama11408',\n",
              " 'natalia12',\n",
              " 'megdam55',\n",
              " 'sandra0547',\n",
              " 'intel1',\n",
              " 'visi7k1yr',\n",
              " 'Scipio21152030067254',\n",
              " 'kikeq102',\n",
              " 'jerusalem393',\n",
              " 'iwaguh884',\n",
              " 'Jovan13lovekenthjusvan4ever',\n",
              " 'DRAGON25',\n",
              " 'z888888',\n",
              " 'g3rappa',\n",
              " 'bencike7',\n",
              " 'ayles2266',\n",
              " 'mazdarx7',\n",
              " 'mega0109',\n",
              " 'umetic21',\n",
              " '123maxbala',\n",
              " 'universe2908',\n",
              " 'j2yj2yj2y',\n",
              " 'g067057895',\n",
              " 'sanki1',\n",
              " 'ilunia20',\n",
              " 'olyucskw52',\n",
              " 'zoobike04',\n",
              " 'hello2104',\n",
              " 'cribrot1200',\n",
              " 'rsuvxz08b',\n",
              " 'hpqkoxsn5',\n",
              " 'princ3sa',\n",
              " 'lamborghin1',\n",
              " 'v1118714',\n",
              " 'junaid5',\n",
              " 'wxS2ztDk4OATjBfI',\n",
              " 'numero2',\n",
              " 'jonothepoop1',\n",
              " 'jEzZXUTE3MgJ4fVk',\n",
              " '600eretz',\n",
              " '1A2Z3E4R',\n",
              " 'hqh2eYjQxOQPYIsA',\n",
              " 'dK4dWOjM1OAPeisw',\n",
              " 'k9b8cz6aj2',\n",
              " 'hide68',\n",
              " 'azizi120583',\n",
              " 'smart95',\n",
              " '64959rodro',\n",
              " 'a03242241431a',\n",
              " 'damyvo114',\n",
              " 'afavin964',\n",
              " 'asgaliu11',\n",
              " 'lqksuym982',\n",
              " 'pr0f1s10',\n",
              " '52756652a',\n",
              " 'mialr325',\n",
              " 'yogesh143',\n",
              " 'zu20081965',\n",
              " 'o7ShLdTM0NAQRI7E',\n",
              " 'pazzini24',\n",
              " 'goony01',\n",
              " 'upyjlneg80',\n",
              " 'umetic21',\n",
              " 'yhwbzci130',\n",
              " 'idofo673',\n",
              " 'tomas7896',\n",
              " 'Herzberg@ABBOTT33656888commerce',\n",
              " 'mdaffandi74',\n",
              " '23deagosto',\n",
              " 'nndcvf1',\n",
              " 'yogesh143',\n",
              " 'zb08110229',\n",
              " '1972vishara',\n",
              " '7l1hu1xa',\n",
              " 'visi7k1yr',\n",
              " 'ikanez886',\n",
              " 'xW8-3w7-MFB-CKH',\n",
              " 'klara-tershina3H',\n",
              " 'nebunule2',\n",
              " 'njmania114',\n",
              " 'emufat882',\n",
              " 'XqMB7vDMzOQocAFV',\n",
              " 'n501iomf',\n",
              " 'buqodym199',\n",
              " 'p@sslng2diword',\n",
              " 'we34dar88',\n",
              " 'djda1203zj',\n",
              " 'barra23',\n",
              " 'pr0f1s10',\n",
              " 'buqodym199',\n",
              " 'nhiannei040',\n",
              " 'poseidon2011',\n",
              " 'pr0f1s10',\n",
              " 'skoda06',\n",
              " '1k9izx',\n",
              " 'mialr325',\n",
              " '7l1hu1xa',\n",
              " 'g067057895',\n",
              " 'caramelo9',\n",
              " 'yut0838828185',\n",
              " 'sono11',\n",
              " '4XakB8TkzOQWCS7Y',\n",
              " 'poseidon2011',\n",
              " 'sanki1',\n",
              " '4XakB8TkzOQWCS7Y',\n",
              " 'yuri110995',\n",
              " 'clumsy0619',\n",
              " '631ihOZogELoVap',\n",
              " '1k9izx',\n",
              " 'BZVQZBTM1MApRV7s',\n",
              " 'koabcswzt3',\n",
              " 'uziwocy148',\n",
              " 'byeypb2',\n",
              " 'change201',\n",
              " 'growerz543',\n",
              " 'nK0yKXTU0NQHZE2e',\n",
              " '1972vishara',\n",
              " 'IP1yaTDUzOQWAeI5',\n",
              " 'nelva20',\n",
              " 'change201',\n",
              " 'intel1',\n",
              " 'Herzberg@ABBOTT33656888commerce',\n",
              " 'sebax2013',\n",
              " 'nelva20',\n",
              " 'vgnfs495vp',\n",
              " 'nebunule2',\n",
              " '1991vikash',\n",
              " 'sbaUsoTA1OAzuevI',\n",
              " 'd04m11',\n",
              " 'h1h2h3h4h5',\n",
              " 'lugerp08',\n",
              " 'azerty32',\n",
              " 'lamborghin1',\n",
              " '69556236gu',\n",
              " 'pablo321159',\n",
              " 'overlord3127',\n",
              " 'pekai2004',\n",
              " 'cockw0mble',\n",
              " 'cigicigi123',\n",
              " 'mtvwyz001',\n",
              " 'k1k2k3k4k5k6',\n",
              " 'just1n0k',\n",
              " 'synyxyr723',\n",
              " 'natalia12',\n",
              " 'jesmond26',\n",
              " '612035180tok',\n",
              " 'qopybuxi2',\n",
              " '64whbrb351',\n",
              " 'qefoquf1uf',\n",
              " 'finisterra1',\n",
              " 'QWERTY0011',\n",
              " 'moken7',\n",
              " '4XakB8TkzOQWCS7Y',\n",
              " 'qopybuxi2',\n",
              " 'vijay1995',\n",
              " 'nhfdff2512',\n",
              " 'a2486315',\n",
              " 'moimoimoi9',\n",
              " 'la3na4you',\n",
              " 'pastorius88',\n",
              " '3rambywople',\n",
              " '123nicole',\n",
              " 'moken7',\n",
              " 'yuri110995',\n",
              " 'tucagu356',\n",
              " 'ihana906',\n",
              " 'sw10d014',\n",
              " 'mxvurqyws5',\n",
              " 'oatcake87',\n",
              " 'aio42fv',\n",
              " 'gedu1t1ah',\n",
              " 'kVczcljg4OA25Aeb',\n",
              " 'taurofive16',\n",
              " 'ravens11',\n",
              " 'poseidon2011',\n",
              " 'owote852',\n",
              " '123charger',\n",
              " 'balamuc123',\n",
              " 'demon10',\n",
              " 'kitty555',\n",
              " 'woogee04',\n",
              " 'v1118714',\n",
              " 'syjtdxlo81',\n",
              " 'rogama69',\n",
              " 'acetita478',\n",
              " 'coy29061994',\n",
              " 'd6VyrkFV6oblxNs5N8cW',\n",
              " 'wibi182d',\n",
              " 'fahad123',\n",
              " 'owataantena1',\n",
              " 'mel008',\n",
              " 'pauramos06',\n",
              " 'anon13',\n",
              " 'taulant123',\n",
              " 'shH3t7TcyOQwKRLt',\n",
              " 'AS0130066',\n",
              " 'karl88',\n",
              " 'jules2109',\n",
              " 'housefly74',\n",
              " 'w9209640',\n",
              " 'jalal123456',\n",
              " '9950twofour0',\n",
              " 'v1s2c3456',\n",
              " '210496av',\n",
              " 'znbl5tj1',\n",
              " 'jeckericek24',\n",
              " 'padhila30',\n",
              " 'aquhih220',\n",
              " 'Truelove19902610',\n",
              " 'v10rica',\n",
              " 'kukimuki123',\n",
              " 'acetita478',\n",
              " 'patata91',\n",
              " 'macias2010',\n",
              " 'sanki1',\n",
              " 'ufoduvo540',\n",
              " 'p0lp0l',\n",
              " '159951josh',\n",
              " 'IRZA98',\n",
              " 'exusop649',\n",
              " 'cerner09',\n",
              " 'aziz098765',\n",
              " 'eeae14li',\n",
              " 'bugatti01',\n",
              " 'o7ShLdTM0NAQRI7E',\n",
              " '2fakjv',\n",
              " 'just1n0k',\n",
              " 'falre1524',\n",
              " 'viri13',\n",
              " 'h1h2h3h4h5',\n",
              " 'uvazyd135',\n",
              " 'as326159',\n",
              " 'krumbul123',\n",
              " 'asakapa22',\n",
              " '029992546sj',\n",
              " 'saule123',\n",
              " 'sgtg5fq',\n",
              " 'e667794c1d',\n",
              " 'ci0n3exor',\n",
              " 'wisal1234',\n",
              " 'nzzvfg7i9p',\n",
              " 'nhrfkv2s12',\n",
              " 'ajyrew547',\n",
              " 'gvczfel801',\n",
              " '147963asd',\n",
              " '210496av',\n",
              " 'ekufite742',\n",
              " 'polo2014',\n",
              " 'uxabeqo309',\n",
              " 'nhfdff2512',\n",
              " 'w9209640',\n",
              " 'medebizu3',\n",
              " '05bumd',\n",
              " 'calung2007',\n",
              " 'hayhayq2',\n",
              " '929865yt',\n",
              " 'XqMB7vDMzOQocAFV',\n",
              " ...]"
            ]
          },
          "metadata": {},
          "execution_count": 16
        }
      ]
    },
    {
      "cell_type": "markdown",
      "metadata": {
        "id": "z6q3pVRRQORK"
      },
      "source": [
        "## Apply TF-IDF on Data"
      ]
    },
    {
      "cell_type": "code",
      "metadata": {
        "id": "n2779KXJHDt5"
      },
      "source": [
        "def word_divide_char(inputs):\n",
        "  character=[]\n",
        "  for i in inputs:\n",
        "    character.append(i)\n",
        "  return character"
      ],
      "execution_count": 19,
      "outputs": []
    },
    {
      "cell_type": "code",
      "metadata": {
        "colab": {
          "base_uri": "https://localhost:8080/"
        },
        "id": "YQ2pJ1BsIMs2",
        "outputId": "61016934-4279-4e9d-85d7-644cf7a326b6"
      },
      "source": [
        "word_divide_char('medebizu3')"
      ],
      "execution_count": 20,
      "outputs": [
        {
          "output_type": "execute_result",
          "data": {
            "text/plain": [
              "['m', 'e', 'd', 'e', 'b', 'i', 'z', 'u', '3']"
            ]
          },
          "metadata": {},
          "execution_count": 20
        }
      ]
    },
    {
      "cell_type": "code",
      "metadata": {
        "id": "KvJa8pitIUTJ"
      },
      "source": [
        "from sklearn.feature_extraction.text import TfidfVectorizer"
      ],
      "execution_count": 21,
      "outputs": []
    },
    {
      "cell_type": "code",
      "metadata": {
        "id": "_lQKoWpRI0ii"
      },
      "source": [
        "vectorizer=TfidfVectorizer(tokenizer=word_divide_char)"
      ],
      "execution_count": 22,
      "outputs": []
    },
    {
      "cell_type": "code",
      "metadata": {
        "id": "prC1o7w1JE7q"
      },
      "source": [
        "X=vectorizer.fit_transform(x)"
      ],
      "execution_count": 23,
      "outputs": []
    },
    {
      "cell_type": "code",
      "metadata": {
        "colab": {
          "base_uri": "https://localhost:8080/"
        },
        "id": "R_Pv9ud0JLVC",
        "outputId": "9ebaedf9-e634-476c-d1ac-9f0d893227eb"
      },
      "source": [
        "X.shape"
      ],
      "execution_count": 25,
      "outputs": [
        {
          "output_type": "execute_result",
          "data": {
            "text/plain": [
              "(669639, 130)"
            ]
          },
          "metadata": {},
          "execution_count": 25
        }
      ]
    },
    {
      "cell_type": "code",
      "metadata": {
        "colab": {
          "base_uri": "https://localhost:8080/"
        },
        "id": "gvr0G7u4JN7d",
        "outputId": "d4998714-9818-4b76-e93d-97b1bb480cb6"
      },
      "source": [
        "vectorizer.get_feature_names()"
      ],
      "execution_count": 27,
      "outputs": [
        {
          "output_type": "execute_result",
          "data": {
            "text/plain": [
              "['\\x05',\n",
              " '\\x06',\n",
              " '\\x08',\n",
              " '\\x0f',\n",
              " '\\x10',\n",
              " '\\x13',\n",
              " '\\x16',\n",
              " '\\x17',\n",
              " '\\x19',\n",
              " '\\x1b',\n",
              " '\\x1c',\n",
              " '\\x1d',\n",
              " '\\x1e',\n",
              " ' ',\n",
              " '!',\n",
              " '\"',\n",
              " '#',\n",
              " '$',\n",
              " '%',\n",
              " '&',\n",
              " '(',\n",
              " ')',\n",
              " '*',\n",
              " '+',\n",
              " '-',\n",
              " '.',\n",
              " '/',\n",
              " '0',\n",
              " '1',\n",
              " '2',\n",
              " '3',\n",
              " '4',\n",
              " '5',\n",
              " '6',\n",
              " '7',\n",
              " '8',\n",
              " '9',\n",
              " ';',\n",
              " '<',\n",
              " '=',\n",
              " '>',\n",
              " '?',\n",
              " '@',\n",
              " '[',\n",
              " '\\\\',\n",
              " ']',\n",
              " '^',\n",
              " '_',\n",
              " '`',\n",
              " 'a',\n",
              " 'b',\n",
              " 'c',\n",
              " 'd',\n",
              " 'e',\n",
              " 'f',\n",
              " 'g',\n",
              " 'h',\n",
              " 'i',\n",
              " 'j',\n",
              " 'k',\n",
              " 'l',\n",
              " 'm',\n",
              " 'n',\n",
              " 'o',\n",
              " 'p',\n",
              " 'q',\n",
              " 'r',\n",
              " 's',\n",
              " 't',\n",
              " 'u',\n",
              " 'v',\n",
              " 'w',\n",
              " 'x',\n",
              " 'y',\n",
              " 'z',\n",
              " '{',\n",
              " '|',\n",
              " '}',\n",
              " '~',\n",
              " '\\x7f',\n",
              " '\\x8d',\n",
              " '¡',\n",
              " '¦',\n",
              " '¨',\n",
              " '«',\n",
              " '°',\n",
              " '±',\n",
              " '²',\n",
              " '³',\n",
              " '´',\n",
              " 'µ',\n",
              " '¶',\n",
              " '·',\n",
              " '¹',\n",
              " 'º',\n",
              " '¼',\n",
              " '¾',\n",
              " '¿',\n",
              " 'ß',\n",
              " 'à',\n",
              " 'á',\n",
              " 'â',\n",
              " 'ä',\n",
              " 'å',\n",
              " 'æ',\n",
              " 'ç',\n",
              " 'é',\n",
              " 'ê',\n",
              " 'í',\n",
              " 'î',\n",
              " 'ï',\n",
              " 'ð',\n",
              " 'ñ',\n",
              " 'ò',\n",
              " 'ó',\n",
              " 'ô',\n",
              " 'õ',\n",
              " '÷',\n",
              " 'ú',\n",
              " 'û',\n",
              " 'ü',\n",
              " 'ý',\n",
              " 'þ',\n",
              " 'ÿ',\n",
              " 'œ',\n",
              " '—',\n",
              " '‚',\n",
              " '‹',\n",
              " '›',\n",
              " '™']"
            ]
          },
          "metadata": {},
          "execution_count": 27
        }
      ]
    },
    {
      "cell_type": "code",
      "metadata": {
        "colab": {
          "base_uri": "https://localhost:8080/"
        },
        "id": "0g8Q4D7nJWCT",
        "outputId": "3653ab54-6675-4e2c-b71c-1a09d68f4af4"
      },
      "source": [
        "first_document_vector=X[0]\n",
        "first_document_vector"
      ],
      "execution_count": 28,
      "outputs": [
        {
          "output_type": "execute_result",
          "data": {
            "text/plain": [
              "<1x130 sparse matrix of type '<class 'numpy.float64'>'\n",
              "\twith 6 stored elements in Compressed Sparse Row format>"
            ]
          },
          "metadata": {},
          "execution_count": 28
        }
      ]
    },
    {
      "cell_type": "code",
      "metadata": {
        "colab": {
          "base_uri": "https://localhost:8080/"
        },
        "id": "9qQWS0sNJntp",
        "outputId": "4772bab8-a1eb-4f7c-defa-ae81d71d25cc"
      },
      "source": [
        "first_document_vector.T.todense()"
      ],
      "execution_count": 29,
      "outputs": [
        {
          "output_type": "execute_result",
          "data": {
            "text/plain": [
              "matrix([[0.        ],\n",
              "        [0.        ],\n",
              "        [0.        ],\n",
              "        [0.        ],\n",
              "        [0.        ],\n",
              "        [0.        ],\n",
              "        [0.        ],\n",
              "        [0.        ],\n",
              "        [0.        ],\n",
              "        [0.        ],\n",
              "        [0.        ],\n",
              "        [0.        ],\n",
              "        [0.        ],\n",
              "        [0.        ],\n",
              "        [0.        ],\n",
              "        [0.        ],\n",
              "        [0.        ],\n",
              "        [0.        ],\n",
              "        [0.        ],\n",
              "        [0.        ],\n",
              "        [0.        ],\n",
              "        [0.        ],\n",
              "        [0.        ],\n",
              "        [0.        ],\n",
              "        [0.        ],\n",
              "        [0.        ],\n",
              "        [0.        ],\n",
              "        [0.        ],\n",
              "        [0.        ],\n",
              "        [0.        ],\n",
              "        [0.        ],\n",
              "        [0.        ],\n",
              "        [0.56624712],\n",
              "        [0.        ],\n",
              "        [0.59162351],\n",
              "        [0.        ],\n",
              "        [0.        ],\n",
              "        [0.        ],\n",
              "        [0.        ],\n",
              "        [0.        ],\n",
              "        [0.        ],\n",
              "        [0.        ],\n",
              "        [0.        ],\n",
              "        [0.        ],\n",
              "        [0.        ],\n",
              "        [0.        ],\n",
              "        [0.        ],\n",
              "        [0.        ],\n",
              "        [0.        ],\n",
              "        [0.        ],\n",
              "        [0.        ],\n",
              "        [0.        ],\n",
              "        [0.28574458],\n",
              "        [0.22171431],\n",
              "        [0.        ],\n",
              "        [0.        ],\n",
              "        [0.        ],\n",
              "        [0.        ],\n",
              "        [0.        ],\n",
              "        [0.29191498],\n",
              "        [0.        ],\n",
              "        [0.        ],\n",
              "        [0.        ],\n",
              "        [0.        ],\n",
              "        [0.        ],\n",
              "        [0.        ],\n",
              "        [0.        ],\n",
              "        [0.        ],\n",
              "        [0.        ],\n",
              "        [0.        ],\n",
              "        [0.        ],\n",
              "        [0.        ],\n",
              "        [0.        ],\n",
              "        [0.        ],\n",
              "        [0.33663669],\n",
              "        [0.        ],\n",
              "        [0.        ],\n",
              "        [0.        ],\n",
              "        [0.        ],\n",
              "        [0.        ],\n",
              "        [0.        ],\n",
              "        [0.        ],\n",
              "        [0.        ],\n",
              "        [0.        ],\n",
              "        [0.        ],\n",
              "        [0.        ],\n",
              "        [0.        ],\n",
              "        [0.        ],\n",
              "        [0.        ],\n",
              "        [0.        ],\n",
              "        [0.        ],\n",
              "        [0.        ],\n",
              "        [0.        ],\n",
              "        [0.        ],\n",
              "        [0.        ],\n",
              "        [0.        ],\n",
              "        [0.        ],\n",
              "        [0.        ],\n",
              "        [0.        ],\n",
              "        [0.        ],\n",
              "        [0.        ],\n",
              "        [0.        ],\n",
              "        [0.        ],\n",
              "        [0.        ],\n",
              "        [0.        ],\n",
              "        [0.        ],\n",
              "        [0.        ],\n",
              "        [0.        ],\n",
              "        [0.        ],\n",
              "        [0.        ],\n",
              "        [0.        ],\n",
              "        [0.        ],\n",
              "        [0.        ],\n",
              "        [0.        ],\n",
              "        [0.        ],\n",
              "        [0.        ],\n",
              "        [0.        ],\n",
              "        [0.        ],\n",
              "        [0.        ],\n",
              "        [0.        ],\n",
              "        [0.        ],\n",
              "        [0.        ],\n",
              "        [0.        ],\n",
              "        [0.        ],\n",
              "        [0.        ],\n",
              "        [0.        ],\n",
              "        [0.        ],\n",
              "        [0.        ],\n",
              "        [0.        ],\n",
              "        [0.        ]])"
            ]
          },
          "metadata": {},
          "execution_count": 29
        }
      ]
    },
    {
      "cell_type": "code",
      "metadata": {
        "colab": {
          "base_uri": "https://localhost:8080/",
          "height": 424
        },
        "id": "kWKTbGeyKfRM",
        "outputId": "2c3b7097-e7a4-45c3-9194-1ea436d70126"
      },
      "source": [
        "df=pd.DataFrame(first_document_vector.T.todense(),index=vectorizer.get_feature_names(),columns=['TF-IDF'])\n",
        "df.sort_values(by=['TF-IDF'],ascending=False)"
      ],
      "execution_count": 32,
      "outputs": [
        {
          "output_type": "execute_result",
          "data": {
            "text/html": [
              "<div>\n",
              "<style scoped>\n",
              "    .dataframe tbody tr th:only-of-type {\n",
              "        vertical-align: middle;\n",
              "    }\n",
              "\n",
              "    .dataframe tbody tr th {\n",
              "        vertical-align: top;\n",
              "    }\n",
              "\n",
              "    .dataframe thead th {\n",
              "        text-align: right;\n",
              "    }\n",
              "</style>\n",
              "<table border=\"1\" class=\"dataframe\">\n",
              "  <thead>\n",
              "    <tr style=\"text-align: right;\">\n",
              "      <th></th>\n",
              "      <th>TF-IDF</th>\n",
              "    </tr>\n",
              "  </thead>\n",
              "  <tbody>\n",
              "    <tr>\n",
              "      <th>7</th>\n",
              "      <td>0.591624</td>\n",
              "    </tr>\n",
              "    <tr>\n",
              "      <th>5</th>\n",
              "      <td>0.566247</td>\n",
              "    </tr>\n",
              "    <tr>\n",
              "      <th>z</th>\n",
              "      <td>0.336637</td>\n",
              "    </tr>\n",
              "    <tr>\n",
              "      <th>k</th>\n",
              "      <td>0.291915</td>\n",
              "    </tr>\n",
              "    <tr>\n",
              "      <th>d</th>\n",
              "      <td>0.285745</td>\n",
              "    </tr>\n",
              "    <tr>\n",
              "      <th>...</th>\n",
              "      <td>...</td>\n",
              "    </tr>\n",
              "    <tr>\n",
              "      <th>=</th>\n",
              "      <td>0.000000</td>\n",
              "    </tr>\n",
              "    <tr>\n",
              "      <th>&lt;</th>\n",
              "      <td>0.000000</td>\n",
              "    </tr>\n",
              "    <tr>\n",
              "      <th>;</th>\n",
              "      <td>0.000000</td>\n",
              "    </tr>\n",
              "    <tr>\n",
              "      <th>9</th>\n",
              "      <td>0.000000</td>\n",
              "    </tr>\n",
              "    <tr>\n",
              "      <th>™</th>\n",
              "      <td>0.000000</td>\n",
              "    </tr>\n",
              "  </tbody>\n",
              "</table>\n",
              "<p>130 rows × 1 columns</p>\n",
              "</div>"
            ],
            "text/plain": [
              "      TF-IDF\n",
              "7   0.591624\n",
              "5   0.566247\n",
              "z   0.336637\n",
              "k   0.291915\n",
              "d   0.285745\n",
              "..       ...\n",
              "=   0.000000\n",
              "<   0.000000\n",
              ";   0.000000\n",
              "9   0.000000\n",
              "™   0.000000\n",
              "\n",
              "[130 rows x 1 columns]"
            ]
          },
          "metadata": {},
          "execution_count": 32
        }
      ]
    },
    {
      "cell_type": "markdown",
      "metadata": {
        "id": "Tfvxc2RFQhNb"
      },
      "source": [
        "## Apply Logistic Regression on Data"
      ]
    },
    {
      "cell_type": "code",
      "metadata": {
        "id": "tvuT6ZZlKp3R"
      },
      "source": [
        "from sklearn.model_selection import train_test_split"
      ],
      "execution_count": 33,
      "outputs": []
    },
    {
      "cell_type": "code",
      "metadata": {
        "id": "ZOoHFfkzMM_l"
      },
      "source": [
        "X_train,X_test,y_train,y_test=train_test_split(X,y,test_size=0.2)"
      ],
      "execution_count": 35,
      "outputs": []
    },
    {
      "cell_type": "code",
      "metadata": {
        "colab": {
          "base_uri": "https://localhost:8080/"
        },
        "id": "eLIaZskCMjIJ",
        "outputId": "124eabfb-3701-43a6-bcf9-541000aac48d"
      },
      "source": [
        "X_train.shape"
      ],
      "execution_count": 36,
      "outputs": [
        {
          "output_type": "execute_result",
          "data": {
            "text/plain": [
              "(535711, 130)"
            ]
          },
          "metadata": {},
          "execution_count": 36
        }
      ]
    },
    {
      "cell_type": "code",
      "metadata": {
        "id": "BeF6gxPOMp8Z"
      },
      "source": [
        "from sklearn.linear_model import LogisticRegression"
      ],
      "execution_count": 37,
      "outputs": []
    },
    {
      "cell_type": "code",
      "metadata": {
        "id": "gKkGzOeFM0sx"
      },
      "source": [
        "clf=LogisticRegression(random_state=0,multi_class='multinomial')"
      ],
      "execution_count": 40,
      "outputs": []
    },
    {
      "cell_type": "code",
      "metadata": {
        "colab": {
          "base_uri": "https://localhost:8080/"
        },
        "id": "F1qED3QhNOf8",
        "outputId": "41109adb-d5c9-484d-e26a-be2e103dd4af"
      },
      "source": [
        "clf.fit(X_train,y_train)"
      ],
      "execution_count": 41,
      "outputs": [
        {
          "output_type": "execute_result",
          "data": {
            "text/plain": [
              "LogisticRegression(C=1.0, class_weight=None, dual=False, fit_intercept=True,\n",
              "                   intercept_scaling=1, l1_ratio=None, max_iter=100,\n",
              "                   multi_class='multinomial', n_jobs=None, penalty='l2',\n",
              "                   random_state=0, solver='lbfgs', tol=0.0001, verbose=0,\n",
              "                   warm_start=False)"
            ]
          },
          "metadata": {},
          "execution_count": 41
        }
      ]
    },
    {
      "cell_type": "code",
      "metadata": {
        "colab": {
          "base_uri": "https://localhost:8080/"
        },
        "id": "jSl4ZFnhNUir",
        "outputId": "b3ca51cf-ccc9-47e3-f0c3-4983a0aa2a7d"
      },
      "source": [
        "dt=np.array(['%@123abcd'])\n",
        "pred=vectorizer.transform(dt)\n",
        "clf.predict(pred)"
      ],
      "execution_count": 46,
      "outputs": [
        {
          "output_type": "execute_result",
          "data": {
            "text/plain": [
              "array([1])"
            ]
          },
          "metadata": {},
          "execution_count": 46
        }
      ]
    },
    {
      "cell_type": "code",
      "metadata": {
        "colab": {
          "base_uri": "https://localhost:8080/"
        },
        "id": "aeSTSR8SN2Iw",
        "outputId": "9e252c67-5181-4566-c354-be21ba1643f7"
      },
      "source": [
        "y_pred=clf.predict(X_test)\n",
        "y_pred"
      ],
      "execution_count": 47,
      "outputs": [
        {
          "output_type": "execute_result",
          "data": {
            "text/plain": [
              "array([1, 1, 1, ..., 1, 1, 1])"
            ]
          },
          "metadata": {},
          "execution_count": 47
        }
      ]
    },
    {
      "cell_type": "markdown",
      "metadata": {
        "id": "yBi3EIM7QyiJ"
      },
      "source": [
        "## Checking Accuracy of Model"
      ]
    },
    {
      "cell_type": "code",
      "metadata": {
        "id": "XQ8cGVecOW5E"
      },
      "source": [
        "from sklearn.metrics import confusion_matrix,accuracy_score"
      ],
      "execution_count": 48,
      "outputs": []
    },
    {
      "cell_type": "code",
      "metadata": {
        "colab": {
          "base_uri": "https://localhost:8080/"
        },
        "id": "2cbHwkToOurE",
        "outputId": "36c0a185-91a5-44c2-b543-73d303fc5242"
      },
      "source": [
        "cm=confusion_matrix(y_test,y_pred)\n",
        "print(cm)\n",
        "print(accuracy_score(y_test,y_pred))"
      ],
      "execution_count": 50,
      "outputs": [
        {
          "output_type": "stream",
          "name": "stdout",
          "text": [
            "[[ 5273 12633    14]\n",
            " [ 3910 92876  2642]\n",
            " [   38  5073 11469]]\n",
            "0.8184845588674512\n"
          ]
        }
      ]
    },
    {
      "cell_type": "code",
      "metadata": {
        "colab": {
          "base_uri": "https://localhost:8080/"
        },
        "id": "mVX9r5WUO_MW",
        "outputId": "2d5f2b0f-3e6d-483f-e316-dd4fd232ac68"
      },
      "source": [
        "from sklearn.metrics import classification_report\n",
        "print(classification_report(y_test,y_pred))"
      ],
      "execution_count": 51,
      "outputs": [
        {
          "output_type": "stream",
          "name": "stdout",
          "text": [
            "              precision    recall  f1-score   support\n",
            "\n",
            "           0       0.57      0.29      0.39     17920\n",
            "           1       0.84      0.93      0.88     99428\n",
            "           2       0.81      0.69      0.75     16580\n",
            "\n",
            "    accuracy                           0.82    133928\n",
            "   macro avg       0.74      0.64      0.67    133928\n",
            "weighted avg       0.80      0.82      0.80    133928\n",
            "\n"
          ]
        }
      ]
    },
    {
      "cell_type": "code",
      "metadata": {
        "id": "zlwwFc9oPYw5"
      },
      "source": [
        ""
      ],
      "execution_count": null,
      "outputs": []
    }
  ]
}